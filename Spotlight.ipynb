{
 "cells": [
  {
   "cell_type": "code",
   "execution_count": 5,
   "metadata": {},
   "outputs": [],
   "source": [
    "from collections import defaultdict\n",
    "import json\n",
    "import surprise as sp\n",
    "import pandas as pd\n",
    "import re\n",
    "us=set()\n",
    "cs=set()\n",
    "cin=defaultdict(str)\n",
    "cni=defaultdict(str)\n",
    "with open('DataCrawling/championInfo.json', 'r') as f:\n",
    "    d = json.load(f)\n",
    "    for champ, champ_dict in d['data'].items():\n",
    "        cs.add(champ_dict['key'])\n",
    "        cin[champ_dict['key']]=champ_dict['id']\n",
    "        cni[champ_dict['id']]=champ_dict['key']\n",
    "ul=[]\n",
    "cl=[]\n",
    "ml=[]\n",
    "ucp=defaultdict(int)\n",
    "for line in open(\"DataCrawling/playersInfo.txt\"):\n",
    "    data = line.strip().split('-')\n",
    "    if len(data) != 3:\n",
    "        summoner = data[-3].split(',')[-1]\n",
    "        champ_list = data[-2]\n",
    "        rank = data[-1]\n",
    "    else:\n",
    "        summoner = data[0]\n",
    "        champ_list = data[1]\n",
    "        rank = data[2]\n",
    "    champ_list=champ_list.split(')')\n",
    "    champ_list=[i.replace('(','').lstrip(',') for i in champ_list if i!='']\n",
    "    sig=0\n",
    "    for i in champ_list:\n",
    "        if i=='': continue\n",
    "        p=i.split(',')\n",
    "        cs.add(p[0])\n",
    "        if int(p[1])>=7:\n",
    "            ul.append(int(summoner))\n",
    "            cl.append(int(p[0]))\n",
    "            ml.append(p[1])\n",
    "            ucp[str(summoner)+'-'+str(p[0])]=2\n",
    "            sig+=2\n",
    "        elif int(p[1])>=4:\n",
    "            ul.append(int(summoner))\n",
    "            cl.append(int(p[0]))\n",
    "            ml.append(p[1])\n",
    "            ucp[str(summoner)+'-'+str(p[0])]=1\n",
    "            sig+=1\n",
    "    if sig>15:\n",
    "        us.add(summoner)"
   ]
  },
  {
   "cell_type": "code",
   "execution_count": null,
   "metadata": {},
   "outputs": [],
   "source": [
    "from spotlight.interactions import Interactions\n",
    "from spotlight.factorization.implicit import ImplicitFactorizationModel\n",
    "import numpy as np\n",
    "ul=np.array(ul[:1000])\n",
    "cl=np.array(cl[:1000])\n",
    "binarypair = Interactions(ul, cl)\n",
    "model = ImplicitFactorizationModel()\n",
    "model.fit(binarypair)\n",
    "model.predict(ul[0], item_ids=None)"
   ]
  },
  {
   "cell_type": "code",
   "execution_count": 1,
   "metadata": {},
   "outputs": [
    {
     "name": "stdout",
     "output_type": "stream",
     "text": [
      "['/Users/richardmatthias/Documents/School/CSE158/A2/predict_champions', '', '/System/Library/Frameworks/Python.framework/Versions/3.6/lib/python3.6/site-packages', '/Users/richardmatthias/miniconda3/lib/python36.zip', '/Users/richardmatthias/miniconda3/lib/python3.6', '/Users/richardmatthias/miniconda3/lib/python3.6/lib-dynload', '/Users/richardmatthias/miniconda3/lib/python3.6/site-packages', '/Users/richardmatthias/miniconda3/lib/python3.6/site-packages/IPython/extensions', '/Users/richardmatthias/.ipython']\n"
     ]
    }
   ],
   "source": [
    "import sys\n",
    "print(sys.path)"
   ]
  },
  {
   "cell_type": "code",
   "execution_count": null,
   "metadata": {},
   "outputs": [],
   "source": []
  }
 ],
 "metadata": {
  "kernelspec": {
   "display_name": "Python 3",
   "language": "python",
   "name": "python3"
  },
  "language_info": {
   "codemirror_mode": {
    "name": "ipython",
    "version": 3
   },
   "file_extension": ".py",
   "mimetype": "text/x-python",
   "name": "python",
   "nbconvert_exporter": "python",
   "pygments_lexer": "ipython3",
   "version": "3.6.7"
  }
 },
 "nbformat": 4,
 "nbformat_minor": 2
}
