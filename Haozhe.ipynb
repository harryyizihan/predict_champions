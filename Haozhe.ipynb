{
 "cells": [
  {
   "cell_type": "code",
   "execution_count": 1,
   "metadata": {},
   "outputs": [],
   "source": [
    "from collections import defaultdict\n",
    "\n",
    "def parse_data (f_name, num):\n",
    "    summoner_champions = defaultdict(list)    # key is summoner_id, val is the list of champions this user played\n",
    "                                              # champions representation is (champion_id, champion_level, champion_points)\n",
    "    summoner_rank = defaultdict(int)          # key is summoner_id, val is the rank\n",
    "    champions_summoner = defaultdict(list)    # key is champion_id, val is the list of user_id who played this champion\n",
    "    \n",
    "    # skip = 0\n",
    "    index = 0\n",
    "    with open (f_name) as f:\n",
    "        for line in f:\n",
    "            if index >= num: break\n",
    "            \n",
    "            data = line.strip().split('-')\n",
    "            if len(data) != 3:\n",
    "                # skip += 1\n",
    "                summoner = data[-3].split(',')[-1]\n",
    "                champ_list = data[-2]\n",
    "                rank = data[-1]\n",
    "#                 for d in data:\n",
    "#                     print(d)\n",
    "#                 continue\n",
    "            #summoner = 's_' + data[0]\n",
    "            else:\n",
    "                summoner = data[0]\n",
    "                champ_list = data[1]\n",
    "                rank = data[2]\n",
    "            \n",
    "            # process champ_list to get the list of tuples\n",
    "            champ_list = champ_list.split(',')\n",
    "            for i in range(len(champ_list)):\n",
    "                champ_list[i] = champ_list[i].replace('(', '').replace(')', '')\n",
    "            temp = []\n",
    "            c_list = []\n",
    "            for i in range(len(champ_list)):\n",
    "                if champ_list[i] == '': continue\n",
    "                    \n",
    "                if i%3 == 0:\n",
    "                    #temp.append('c_' + champ_list[i])\n",
    "                    temp.append(champ_list[i])\n",
    "                else:\n",
    "                    temp.append(int(champ_list[i]))\n",
    "                    \n",
    "                if i%3 == 2:\n",
    "                    c_list.append(tuple(temp))\n",
    "                    temp = []\n",
    "                i += 1\n",
    "            \n",
    "            summoner_champions[summoner] = c_list\n",
    "            summoner_rank[summoner] = int(rank)\n",
    "            for champ, l, p in c_list:\n",
    "                champions_summoner[champ].append(summoner)\n",
    "            \n",
    "            index += 1\n",
    "    #print(skip, 'lines were skipped.')        \n",
    "    return summoner_champions, summoner_rank, champions_summoner"
   ]
  },
  {
   "cell_type": "code",
   "execution_count": null,
   "metadata": {},
   "outputs": [],
   "source": [
    "summoner_champions, summoner_rank, champions_summoner = parse_data('DataCrawling/playersInfo.txt', 2)\n",
    "print(summoner_champions, '\\n')\n",
    "print(summoner_rank, '\\n')\n",
    "print(champions_summoner, '\\n')"
   ]
  },
  {
   "cell_type": "code",
   "execution_count": null,
   "metadata": {},
   "outputs": [],
   "source": []
  },
  {
   "cell_type": "code",
   "execution_count": 2,
   "metadata": {},
   "outputs": [],
   "source": [
    "summoner_champions, summoner_rank, champions_summoner = parse_data('DataCrawling/playersInfo.txt', 60000)"
   ]
  },
  {
   "cell_type": "code",
   "execution_count": null,
   "metadata": {},
   "outputs": [],
   "source": [
    "import matplotlib\n",
    "\n",
    "print('There are', len(summoner_champions), 'summoners.')\n",
    "print('There are', len(champions_summoner), 'champions.')\n",
    "\n",
    "# Find top 50 most popular champions\n",
    "champions_count = defaultdict(int)\n",
    "for user, champ_list in summoner_champions.items():\n",
    "    for champ, l, p in champ_list:\n",
    "        champions_count[champ] += 1\n",
    "        \n",
    "popular_champs = [(champions_count[x], x) for x in champions_count]\n",
    "popular_champs.sort()\n",
    "popular_champs.reverse()\n",
    "print(popular_champs[:50])"
   ]
  },
  {
   "cell_type": "code",
   "execution_count": 7,
   "metadata": {},
   "outputs": [
    {
     "ename": "NameError",
     "evalue": "name 'popular_champs' is not defined",
     "output_type": "error",
     "traceback": [
      "\u001b[0;31m---------------------------------------------------------------------------\u001b[0m",
      "\u001b[0;31mNameError\u001b[0m                                 Traceback (most recent call last)",
      "\u001b[0;32m<ipython-input-7-0e93051a3504>\u001b[0m in \u001b[0;36m<module>\u001b[0;34m\u001b[0m\n\u001b[1;32m      5\u001b[0m \u001b[0mget_ipython\u001b[0m\u001b[0;34m(\u001b[0m\u001b[0;34m)\u001b[0m\u001b[0;34m.\u001b[0m\u001b[0mrun_line_magic\u001b[0m\u001b[0;34m(\u001b[0m\u001b[0;34m'matplotlib'\u001b[0m\u001b[0;34m,\u001b[0m \u001b[0;34m'inline'\u001b[0m\u001b[0;34m)\u001b[0m\u001b[0;34m\u001b[0m\u001b[0m\n\u001b[1;32m      6\u001b[0m \u001b[0;34m\u001b[0m\u001b[0m\n\u001b[0;32m----> 7\u001b[0;31m \u001b[0mx_plot\u001b[0m \u001b[0;34m=\u001b[0m \u001b[0;34m[\u001b[0m\u001b[0mchamp\u001b[0m \u001b[0;32mfor\u001b[0m \u001b[0mcount\u001b[0m\u001b[0;34m,\u001b[0m \u001b[0mchamp\u001b[0m \u001b[0;32min\u001b[0m \u001b[0mpopular_champs\u001b[0m\u001b[0;34m]\u001b[0m\u001b[0;34m\u001b[0m\u001b[0m\n\u001b[0m\u001b[1;32m      8\u001b[0m \u001b[0my_plot\u001b[0m \u001b[0;34m=\u001b[0m \u001b[0;34m[\u001b[0m\u001b[0mcount\u001b[0m \u001b[0;32mfor\u001b[0m \u001b[0mcount\u001b[0m\u001b[0;34m,\u001b[0m \u001b[0mchamp\u001b[0m \u001b[0;32min\u001b[0m \u001b[0mpopular_champs\u001b[0m\u001b[0;34m]\u001b[0m\u001b[0;34m\u001b[0m\u001b[0m\n\u001b[1;32m      9\u001b[0m \u001b[0;34m\u001b[0m\u001b[0m\n",
      "\u001b[0;31mNameError\u001b[0m: name 'popular_champs' is not defined"
     ]
    }
   ],
   "source": [
    "import matplotlib.pyplot as plt; plt.rcdefaults()\n",
    "import numpy as np\n",
    "import matplotlib.pyplot as plt\n",
    "from matplotlib.pyplot import figure\n",
    "%matplotlib inline\n",
    "\n",
    "x_plot = [champ for count, champ in popular_champs]\n",
    "y_plot = [count for count, champ in popular_champs]\n",
    " \n",
    "y_pos = np.arange(len(x_plot))\n",
    "\n",
    "font = {'family' : 'Times New Roman',\n",
    "        'weight' : 'bold',\n",
    "        'size'   : 22}\n",
    "\n",
    "matplotlib.rc('font', **font)\n",
    "\n",
    "f, ax = plt.subplots(figsize=(50,15))\n",
    "plt.bar(y_pos, y_plot, align='center', alpha=0.5, width=0.4)\n",
    "plt.xticks(y_pos, x_plot,rotation=90, fontsize=20)\n",
    "plt.xlabel('Champion IDs', fontsize=30)\n",
    "plt.ylabel('Number of Summoners',fontsize=30)\n",
    "plt.title('Popularity of Champions',fontsize=40)\n",
    "plt.grid(True)\n",
    " \n",
    "plt.show()"
   ]
  },
  {
   "cell_type": "code",
   "execution_count": null,
   "metadata": {},
   "outputs": [],
   "source": [
    "popular_champs[-1]"
   ]
  },
  {
   "cell_type": "code",
   "execution_count": null,
   "metadata": {},
   "outputs": [],
   "source": [
    "popular_champs[-1]"
   ]
  },
  {
   "cell_type": "code",
   "execution_count": null,
   "metadata": {},
   "outputs": [],
   "source": [
    "actual_champions_count = defaultdict(int)\n",
    "for user, champ_list in summoner_champions.items():\n",
    "    for champ, l, p in champ_list:\n",
    "        if l >= 3:\n",
    "            actual_champions_count[champ] += 1\n",
    "actual_popular_champs = [(actual_champions_count[x], x) for x in actual_champions_count]\n",
    "actual_popular_champs.sort()\n",
    "actual_popular_champs.reverse()\n",
    "print(actual_popular_champs[:50])"
   ]
  },
  {
   "cell_type": "code",
   "execution_count": null,
   "metadata": {},
   "outputs": [],
   "source": [
    "%matplotlib inline\n",
    "\n",
    "x_plot = [champ for count, champ in actual_popular_champs]\n",
    "y_plot = [count for count, champ in actual_popular_champs]\n",
    " \n",
    "y_pos = np.arange(len(x_plot))\n",
    "\n",
    "font = {'family' : 'Times New Roman',\n",
    "        'weight' : 'bold',\n",
    "        'size'   : 22}\n",
    "\n",
    "matplotlib.rc('font', **font)\n",
    "\n",
    "f, ax = plt.subplots(figsize=(50,15))\n",
    "plt.bar(y_pos, y_plot, align='center', alpha=0.5, width=0.4)\n",
    "plt.xticks(y_pos, x_plot,rotation=90, fontsize=20)\n",
    "plt.xlabel('Champion IDs', fontsize=30)\n",
    "plt.ylabel('Number of Summoners',fontsize=30)\n",
    "plt.title('Popularity of Champions',fontsize=40)\n",
    "plt.grid(True)\n",
    " \n",
    "plt.show()"
   ]
  },
  {
   "cell_type": "code",
   "execution_count": null,
   "metadata": {},
   "outputs": [],
   "source": [
    "font = {'family' : 'Times New Roman',\n",
    "        'weight' : 'normal',\n",
    "        'size'   : 12}\n",
    "\n",
    "matplotlib.rc('font', **font)\n",
    "\n",
    "plt.plot(y_pos, y_plot)\n",
    "plt.xlabel('Champion (from most popular to least popular)')\n",
    "plt.ylabel('Number of Summoners')\n",
    "plt.title('Slope of Change in Popularity')\n",
    "plt.show()"
   ]
  },
  {
   "cell_type": "code",
   "execution_count": null,
   "metadata": {},
   "outputs": [],
   "source": [
    "rank_count = defaultdict(int)\n",
    "for summoner, rank in summoner_rank.items():\n",
    "    rank_count[rank] += 1"
   ]
  },
  {
   "cell_type": "code",
   "execution_count": null,
   "metadata": {},
   "outputs": [],
   "source": [
    "# Data to plot\n",
    "labels = 'No rank', 'Rank 1', 'Rank 2', 'Rank 3'\n",
    "sizes = [rank_count[x] for x in range(4)]\n",
    "colors = ['gold', 'yellowgreen', 'lightcoral', 'lightskyblue']\n",
    "explode = (0, 0, 0, 0)  # explode 1st slice\n",
    " \n",
    "# Plot\n",
    "plt.pie(sizes, explode=explode, labels=labels, colors=colors,\n",
    "        autopct='%1.1f%%', shadow=True, startangle=140)\n",
    " \n",
    "plt.axis('equal')\n",
    "plt.show()"
   ]
  },
  {
   "cell_type": "code",
   "execution_count": 3,
   "metadata": {},
   "outputs": [],
   "source": [
    "import json\n",
    "def parse_champion_info():\n",
    "    champ_type = {}\n",
    "    champ_info = {}\n",
    "    with open('DataCrawling/championInfo.json', 'r') as f:\n",
    "        d = json.load(f)\n",
    "\n",
    "    #i = 0\n",
    "    for champ, champ_dict in d['data'].items():\n",
    "        #if i > 3: break\n",
    "        #print(champ_dict)\n",
    "        champ_id = champ_dict['key']\n",
    "        champ_tags = champ_dict['tags']\n",
    "        champ_information = champ_dict['info']\n",
    "        \n",
    "        champ_type[champ_id] = champ_tags\n",
    "        champ_info[champ_id] = champ_information\n",
    "        #i += 1\n",
    "        \n",
    "    return champ_type, champ_info"
   ]
  },
  {
   "cell_type": "code",
   "execution_count": 4,
   "metadata": {},
   "outputs": [],
   "source": [
    "champ_type, champ_info = parse_champion_info()"
   ]
  },
  {
   "cell_type": "code",
   "execution_count": 28,
   "metadata": {},
   "outputs": [],
   "source": [
    "mage = []\n",
    "support = []\n",
    "fighter = []\n",
    "tank = []\n",
    "marksman = []\n",
    "assassin = []\n",
    "i = 0\n",
    "for summoner, champ_list in summoner_champions.items():\n",
    "    if i > 10: break\n",
    "    temp = [(p, l, champ) for champ, l, p in champ_list]\n",
    "    temp.sort()\n",
    "    temp.reverse()\n",
    "    type_count = defaultdict(int)\n",
    "    for p, l, c in temp:\n",
    "        tags = champ_type[c]\n",
    "        for t in tags:\n",
    "            type_count[t] += 1\n",
    "            \n",
    "    total = sum(list(type_count.values()))       \n",
    "    for ty in type_count:\n",
    "        type_count[ty] /= total\n",
    "    mage.append(type_count['Mage'])\n",
    "    support.append(type_count['Support'])\n",
    "    fighter.append(type_count['Fighter'])\n",
    "    tank.append(type_count['Tank'])\n",
    "    marksman.append(type_count['Marksman'])\n",
    "    assassin.append(type_count['Assassin'])\n",
    "    #print(type_count)\n",
    "    i+=1\n",
    "     "
   ]
  },
  {
   "cell_type": "code",
   "execution_count": 37,
   "metadata": {},
   "outputs": [
    {
     "data": {
      "image/png": "[encoded data removed]",
      "text/plain": [
       "<Figure size 432x288 with 1 Axes>"
      ]
     },
     "metadata": {
      "needs_background": "light"
     },
     "output_type": "display_data"
    }
   ],
   "source": [
    "import matplotlib.pyplot as plt; plt.rcdefaults()\n",
    "import numpy as np\n",
    "import matplotlib.pyplot as plt\n",
    "import matplotlib\n",
    "from matplotlib.pyplot import figure\n",
    "%matplotlib inline\n",
    "\n",
    "font = {'family' : 'Times New Roman',\n",
    "        'weight' : 'normal',\n",
    "        'size'   : 12}\n",
    "\n",
    "matplotlib.rc('font', **font)\n",
    "\n",
    "N = len(mage)\n",
    "ind = np.arange(N)    # the x locations for the groups\n",
    "width = 0.35       # the width of the bars: can also be len(x) sequence\n",
    "\n",
    "p1 = plt.bar(ind, mage, width)\n",
    "p2 = plt.bar(ind, support, width, bottom=mage)\n",
    "p3 = plt.bar(ind, fighter, width, bottom=np.array(mage)+ np.array(support))\n",
    "p4 = plt.bar(ind, tank, width, bottom=np.array(fighter) + np.array(mage)+ np.array(support))\n",
    "p5 = plt.bar(ind, marksman, width, bottom=np.array(tank) + np.array(fighter) + np.array(mage)+ np.array(support))\n",
    "p6 = plt.bar(ind, assassin, width, bottom=np.array(marksman) + np.array(tank) + np.array(fighter) + np.array(mage)+ np.array(support))\n",
    "\n",
    "plt.ylabel('Weight')\n",
    "plt.xlabel('First 10 Summoners')\n",
    "plt.title('Summons\\' Usage of Champions')\n",
    "#plt.xticks(ind, ('G1', 'G2', 'G3', 'G4', 'G5'))\n",
    "#plt.yticks(np.arange(0, 81, 10))\n",
    "\n",
    "from matplotlib.font_manager import FontProperties\n",
    "\n",
    "fontP = FontProperties()\n",
    "fontP.set_size('small')\n",
    "\n",
    "plt.legend((p1[0], p2[0], p3[0], p4[0], p5[0], p6[0]), ('Mage', 'Support', 'Fighter', 'Tank', 'Marksman', 'Assassin'), prop=fontP,loc='center left', bbox_to_anchor=(1, 0.5))\n",
    "\n",
    "plt.show()"
   ]
  },
  {
   "cell_type": "code",
   "execution_count": 27,
   "metadata": {},
   "outputs": [
    {
     "data": {
      "text/plain": [
       "1.0"
      ]
     },
     "execution_count": 27,
     "metadata": {},
     "output_type": "execute_result"
    }
   ],
   "source": [
    "j = 4\n",
    "mage[j] + support[j] + fighter[j] + tank[j] + marksman[j] + assassin[j]"
   ]
  },
  {
   "cell_type": "code",
   "execution_count": null,
   "metadata": {},
   "outputs": [],
   "source": []
  }
 ],
 "metadata": {
  "kernelspec": {
   "display_name": "Python 3",
   "language": "python",
   "name": "python3"
  },
  "language_info": {
   "codemirror_mode": {
    "name": "ipython",
    "version": 3
   },
   "file_extension": ".py",
   "mimetype": "text/x-python",
   "name": "python",
   "nbconvert_exporter": "python",
   "pygments_lexer": "ipython3",
   "version": "3.6.6"
  }
 },
 "nbformat": 4,
 "nbformat_minor": 2
}
