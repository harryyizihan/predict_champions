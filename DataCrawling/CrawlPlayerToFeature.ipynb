{
 "cells": [
  {
   "cell_type": "code",
   "execution_count": 84,
   "metadata": {},
   "outputs": [],
   "source": [
    "import requests\n",
    "import json\n",
    "import time"
   ]
  },
  {
   "cell_type": "code",
   "execution_count": 85,
   "metadata": {},
   "outputs": [],
   "source": [
    "playerList = list()\n",
    "for l in open(\"realUserSummonerIdSet.txt\"):\n",
    "    playerList.append(l.strip())"
   ]
  },
  {
   "cell_type": "code",
   "execution_count": 86,
   "metadata": {},
   "outputs": [],
   "source": [
    "def requestChampionMasteryData(summonerID, api_key):\n",
    "    URL = \"https://na1.api.riotgames.com/lol/champion-mastery/v3/champion-masteries/by-summoner/\" + summonerID + \"?api_key=\" + api_key\n",
    "    response = requests.get(URL)\n",
    "    return response.json()"
   ]
  },
  {
   "cell_type": "code",
   "execution_count": 87,
   "metadata": {},
   "outputs": [],
   "source": [
    "def requestPlayerRankData(summonerID, api_key):\n",
    "    URL = \"https://na1.api.riotgames.com/lol/league/v3/positions/by-summoner/\" + summonerID + \"?api_key=\" + api_key\n",
    "    response = requests.get(URL)\n",
    "    if len(response.json()) == 0 or response.json() == None:\n",
    "        return None\n",
    "    else:\n",
    "        return response.json()"
   ]
  },
  {
   "cell_type": "code",
   "execution_count": 88,
   "metadata": {},
   "outputs": [],
   "source": [
    "# 13\n",
    "api_key_list = list()\n",
    "api_key_list.append('RGAPI-035877ad-6357-44c6-b5b9-ec968956362b')\n",
    "api_key_list.append('RGAPI-efff9c91-0052-4b64-8944-f1add2e5e1ab')\n",
    "#api_key_list.append('RGAPI-8aa2ec09-aa2c-4047-a3ef-1cdacc4e8576')\n",
    "#api_key_list.append('RGAPI-abb6b3a0-c2c8-4f14-90de-dea2fd7ee223')\n",
    "#api_key_list.append('RGAPI-a3e0092c-07b1-4b82-8c52-7a77bdff4f50')\n",
    "#api_key_list.append('RGAPI-1a732943-40d9-480c-9efc-92b8c5ec77eb')\n",
    "#api_key_list.append('RGAPI-0823f849-4edb-415c-9d13-db8abd9750a7')\n",
    "api_key_list.append('RGAPI-b1ac7934-be8f-44d6-9fe8-23336c4917f7')\n",
    "api_key_list.append('RGAPI-09e2ad50-b8e7-4702-adda-aab458338a4c')\n",
    "api_key_list.append('RGAPI-4bf4bedb-3478-4a40-88a0-8a563f2ab67c')\n",
    "api_key_list.append('RGAPI-c94c6678-79e2-4374-8de9-4e692731c6f4')\n",
    "api_key_list.append('RGAPI-394d92ae-f4a2-4052-97ba-abcea312eae5')"
   ]
  },
  {
   "cell_type": "code",
   "execution_count": 89,
   "metadata": {},
   "outputs": [],
   "source": [
    "f = open(\"playersInfo10.txt\", 'w') # the file to store the output"
   ]
  },
  {
   "cell_type": "code",
   "execution_count": null,
   "metadata": {},
   "outputs": [],
   "source": [
    "key_index = 0\n",
    "for i in range(47712, len(playerList)):\n",
    "    #print \"curr player is: \", playerList[i]\n",
    "    masteryJSON = requestChampionMasteryData(playerList[i], api_key_list[key_index])\n",
    "    rankJSON = requestPlayerRankData(playerList[i], api_key_list[key_index])\n",
    "\n",
    "    counter = 0\n",
    "    while ('status' in masteryJSON and masteryJSON['status']['status_code'] == 429):\n",
    "        #print str(masteryJSON)\n",
    "        counter += 1\n",
    "        if counter == 10:\n",
    "            print \"now sleep for 2 mins...\"\n",
    "            time.sleep(120)\n",
    "            print \"wake up\"\n",
    "        \n",
    "        if key_index == 6:\n",
    "            key_index = 0\n",
    "        else:\n",
    "            key_index += 1\n",
    "            \n",
    "        masteryJSON = requestChampionMasteryData(playerList[i], api_key_list[key_index])\n",
    "        rankJSON = requestPlayerRankData(playerList[i], api_key_list[key_index])\n",
    "    \n",
    "    f.write(playerList[i] + \"-\")\n",
    "    for i in range (len(masteryJSON)):\n",
    "        curChampion = masteryJSON[i]\n",
    "        curChampionLevel = curChampion['championLevel']\n",
    "        curChampionId = curChampion['championId']\n",
    "        curChampionPoints = curChampion['championPoints']\n",
    "        f.write(\"(\" + str(curChampionId) + \",\" + str(curChampionLevel) + \",\" + str(curChampionPoints) + ')' + \",\")\n",
    "    if rankJSON == None:\n",
    "        f.write(\"-\" + str(0) + \"\\n\")\n",
    "    else:\n",
    "        curTier = str(rankJSON[0]['tier'])\n",
    "        if curTier == 'BRONZE':\n",
    "            f.write(\"-\" + \"1\" + \"\\n\")\n",
    "        if curTier == 'SILVER':\n",
    "            f.write(\"-\" + \"2\" + \"\\n\")\n",
    "        if curTier == 'GOLD':\n",
    "            f.write(\"-\" + \"3\" + \"\\n\")\n",
    "        if curTier == 'PLATIUM':\n",
    "            f.write(\"-\" + \"4\" + \"\\n\")\n",
    "        if curTier == 'DIAMOND':\n",
    "            f.write(\"-\" + \"5\" + \"\\n\")\n",
    "        if curTier == 'MASTER':\n",
    "            f.write(\"-\" + \"6\" + \"\\n\")\n",
    "        if curTier == 'CHALLENGER':\n",
    "            f.write(\"-\" + \"7\" + \"\\n\")"
   ]
  },
  {
   "cell_type": "code",
   "execution_count": 67,
   "metadata": {},
   "outputs": [
    {
     "data": {
      "text/plain": [
       "47712"
      ]
     },
     "execution_count": 67,
     "metadata": {},
     "output_type": "execute_result"
    }
   ],
   "source": [
    "playerList.index(\"35309685\")"
   ]
  },
  {
   "cell_type": "code",
   "execution_count": 76,
   "metadata": {},
   "outputs": [
    {
     "data": {
      "text/plain": [
       "{u'status': {u'message': u'Forbidden', u'status_code': 403}}"
      ]
     },
     "execution_count": 76,
     "metadata": {},
     "output_type": "execute_result"
    }
   ],
   "source": [
    "masteryJSON"
   ]
  },
  {
   "cell_type": "code",
   "execution_count": 75,
   "metadata": {},
   "outputs": [
    {
     "data": {
      "text/plain": [
       "1"
      ]
     },
     "execution_count": 75,
     "metadata": {},
     "output_type": "execute_result"
    }
   ],
   "source": [
    "key_index"
   ]
  },
  {
   "cell_type": "code",
   "execution_count": null,
   "metadata": {},
   "outputs": [],
   "source": []
  }
 ],
 "metadata": {
  "kernelspec": {
   "display_name": "Python 2",
   "language": "python",
   "name": "python2"
  },
  "language_info": {
   "codemirror_mode": {
    "name": "ipython",
    "version": 2
   },
   "file_extension": ".py",
   "mimetype": "text/x-python",
   "name": "python",
   "nbconvert_exporter": "python",
   "pygments_lexer": "ipython2",
   "version": "2.7.15"
  }
 },
 "nbformat": 4,
 "nbformat_minor": 2
}
