{
 "cells": [
  {
   "cell_type": "code",
   "execution_count": 5,
   "metadata": {},
   "outputs": [],
   "source": [
    "from collections import defaultdict\n",
    "import json\n",
    "import surprise as sp\n",
    "import pandas as pd\n",
    "import re\n",
    "us=set()\n",
    "cs=set()\n",
    "cin=defaultdict(str)\n",
    "cni=defaultdict(str)\n",
    "with open('DataCrawling/championInfo.json', 'r') as f:\n",
    "    d = json.load(f)\n",
    "    for champ, champ_dict in d['data'].items():\n",
    "        cs.add(champ_dict['key'])\n",
    "        cin[champ_dict['key']]=champ_dict['id']\n",
    "        cni[champ_dict['id']]=champ_dict['key']\n",
    "ul=[]\n",
    "si=defaultdict(int)\n",
    "count=0\n",
    "cl=[]\n",
    "ml=[]\n",
    "ucp=defaultdict(int)\n",
    "for line in open(\"DataCrawling/playersInfo.txt\"):\n",
    "    data = line.strip().split('-')\n",
    "    if len(data) != 3:\n",
    "        summoner = data[-3].split(',')[-1]\n",
    "        champ_list = data[-2]\n",
    "        rank = data[-1]\n",
    "    else:\n",
    "        summoner = data[0]\n",
    "        champ_list = data[1]\n",
    "        rank = data[2]\n",
    "    champ_list=champ_list.split(')')\n",
    "    champ_list=[i.replace('(','').lstrip(',') for i in champ_list if i!='']\n",
    "    sig=0\n",
    "    for i in champ_list:\n",
    "        if i=='': continue\n",
    "        p=i.split(',')\n",
    "        cs.add(p[0])\n",
    "        si[summoner]=count\n",
    "        if int(p[1])>=7:\n",
    "            ul.append(count)\n",
    "            cl.append(p[0])\n",
    "            ml.append(p[1])\n",
    "            ucp[str(summoner)+'-'+str(p[0])]=2\n",
    "            sig+=2\n",
    "        elif int(p[1])>=4:\n",
    "            ul.append(count)\n",
    "            cl.append(p[0])\n",
    "            ml.append(p[1])\n",
    "            ucp[str(summoner)+'-'+str(p[0])]=1\n",
    "            sig+=1\n",
    "    if sig>15:\n",
    "        us.add(summoner)\n",
    "    count+=1"
   ]
  },
  {
   "cell_type": "code",
   "execution_count": 8,
   "metadata": {},
   "outputs": [
    {
     "ename": "TypeError",
     "evalue": "cannot perform reduce with flexible type",
     "output_type": "error",
     "traceback": [
      "\u001b[0;31m---------------------------------------------------------------------------\u001b[0m",
      "\u001b[0;31mTypeError\u001b[0m                                 Traceback (most recent call last)",
      "\u001b[0;32m<ipython-input-8-f145c74cb4e2>\u001b[0m in \u001b[0;36m<module>\u001b[0;34m\u001b[0m\n\u001b[1;32m      5\u001b[0m \u001b[0mul\u001b[0m\u001b[0;34m=\u001b[0m\u001b[0mnp\u001b[0m\u001b[0;34m.\u001b[0m\u001b[0marray\u001b[0m\u001b[0;34m(\u001b[0m\u001b[0mul\u001b[0m\u001b[0;34m)\u001b[0m\u001b[0;34m\u001b[0m\u001b[0;34m\u001b[0m\u001b[0m\n\u001b[1;32m      6\u001b[0m \u001b[0mcl\u001b[0m\u001b[0;34m=\u001b[0m\u001b[0mnp\u001b[0m\u001b[0;34m.\u001b[0m\u001b[0marray\u001b[0m\u001b[0;34m(\u001b[0m\u001b[0mcl\u001b[0m\u001b[0;34m)\u001b[0m\u001b[0;34m\u001b[0m\u001b[0;34m\u001b[0m\u001b[0m\n\u001b[0;32m----> 7\u001b[0;31m \u001b[0mbinarypair\u001b[0m \u001b[0;34m=\u001b[0m \u001b[0mInteractions\u001b[0m\u001b[0;34m(\u001b[0m\u001b[0mul\u001b[0m\u001b[0;34m,\u001b[0m \u001b[0mcl\u001b[0m\u001b[0;34m)\u001b[0m\u001b[0;34m\u001b[0m\u001b[0;34m\u001b[0m\u001b[0m\n\u001b[0m\u001b[1;32m      8\u001b[0m \u001b[0mmodel\u001b[0m \u001b[0;34m=\u001b[0m \u001b[0mImplicitFactorizationModel\u001b[0m\u001b[0;34m(\u001b[0m\u001b[0;34m)\u001b[0m\u001b[0;34m\u001b[0m\u001b[0;34m\u001b[0m\u001b[0m\n\u001b[1;32m      9\u001b[0m \u001b[0mmodel\u001b[0m\u001b[0;34m.\u001b[0m\u001b[0mfit\u001b[0m\u001b[0;34m(\u001b[0m\u001b[0mbinarypair\u001b[0m\u001b[0;34m)\u001b[0m\u001b[0;34m\u001b[0m\u001b[0;34m\u001b[0m\u001b[0m\n",
      "\u001b[0;32m~/miniconda3/lib/python3.6/site-packages/spotlight/interactions.py\u001b[0m in \u001b[0;36m__init__\u001b[0;34m(self, user_ids, item_ids, ratings, timestamps, weights, num_users, num_items)\u001b[0m\n\u001b[1;32m    100\u001b[0m                  num_items=None):\n\u001b[1;32m    101\u001b[0m \u001b[0;34m\u001b[0m\u001b[0m\n\u001b[0;32m--> 102\u001b[0;31m         \u001b[0mself\u001b[0m\u001b[0;34m.\u001b[0m\u001b[0mnum_users\u001b[0m \u001b[0;34m=\u001b[0m \u001b[0mnum_users\u001b[0m \u001b[0;32mor\u001b[0m \u001b[0mint\u001b[0m\u001b[0;34m(\u001b[0m\u001b[0muser_ids\u001b[0m\u001b[0;34m.\u001b[0m\u001b[0mmax\u001b[0m\u001b[0;34m(\u001b[0m\u001b[0;34m)\u001b[0m \u001b[0;34m+\u001b[0m \u001b[0;36m1\u001b[0m\u001b[0;34m)\u001b[0m\u001b[0;34m\u001b[0m\u001b[0;34m\u001b[0m\u001b[0m\n\u001b[0m\u001b[1;32m    103\u001b[0m         \u001b[0mself\u001b[0m\u001b[0;34m.\u001b[0m\u001b[0mnum_items\u001b[0m \u001b[0;34m=\u001b[0m \u001b[0mnum_items\u001b[0m \u001b[0;32mor\u001b[0m \u001b[0mint\u001b[0m\u001b[0;34m(\u001b[0m\u001b[0mitem_ids\u001b[0m\u001b[0;34m.\u001b[0m\u001b[0mmax\u001b[0m\u001b[0;34m(\u001b[0m\u001b[0;34m)\u001b[0m \u001b[0;34m+\u001b[0m \u001b[0;36m1\u001b[0m\u001b[0;34m)\u001b[0m\u001b[0;34m\u001b[0m\u001b[0;34m\u001b[0m\u001b[0m\n\u001b[1;32m    104\u001b[0m \u001b[0;34m\u001b[0m\u001b[0m\n",
      "\u001b[0;32m~/miniconda3/lib/python3.6/site-packages/numpy/core/_methods.py\u001b[0m in \u001b[0;36m_amax\u001b[0;34m(a, axis, out, keepdims, initial)\u001b[0m\n\u001b[1;32m     26\u001b[0m def _amax(a, axis=None, out=None, keepdims=False,\n\u001b[1;32m     27\u001b[0m           initial=_NoValue):\n\u001b[0;32m---> 28\u001b[0;31m     \u001b[0;32mreturn\u001b[0m \u001b[0mumr_maximum\u001b[0m\u001b[0;34m(\u001b[0m\u001b[0ma\u001b[0m\u001b[0;34m,\u001b[0m \u001b[0maxis\u001b[0m\u001b[0;34m,\u001b[0m \u001b[0;32mNone\u001b[0m\u001b[0;34m,\u001b[0m \u001b[0mout\u001b[0m\u001b[0;34m,\u001b[0m \u001b[0mkeepdims\u001b[0m\u001b[0;34m,\u001b[0m \u001b[0minitial\u001b[0m\u001b[0;34m)\u001b[0m\u001b[0;34m\u001b[0m\u001b[0;34m\u001b[0m\u001b[0m\n\u001b[0m\u001b[1;32m     29\u001b[0m \u001b[0;34m\u001b[0m\u001b[0m\n\u001b[1;32m     30\u001b[0m def _amin(a, axis=None, out=None, keepdims=False,\n",
      "\u001b[0;31mTypeError\u001b[0m: cannot perform reduce with flexible type"
     ]
    }
   ],
   "source": [
    "from spotlight.interactions import Interactions\n",
    "from spotlight.factorization.implicit import ImplicitFactorizationModel\n",
    "import numpy as np\n",
    "us=list(us)\n",
    "ul=np.array(ul)\n",
    "cl=np.array(cl)\n",
    "binarypair = Interactions(ul, cl)\n",
    "model = ImplicitFactorizationModel()\n",
    "model.fit(binarypair)\n",
    "model.predict(us[0], item_ids=None)"
   ]
  },
  {
   "cell_type": "code",
   "execution_count": 1,
   "metadata": {},
   "outputs": [
    {
     "name": "stdout",
     "output_type": "stream",
     "text": [
      "['/Users/richardmatthias/Documents/School/CSE158/A2/predict_champions', '', '/System/Library/Frameworks/Python.framework/Versions/3.6/lib/python3.6/site-packages', '/Users/richardmatthias/miniconda3/lib/python36.zip', '/Users/richardmatthias/miniconda3/lib/python3.6', '/Users/richardmatthias/miniconda3/lib/python3.6/lib-dynload', '/Users/richardmatthias/miniconda3/lib/python3.6/site-packages', '/Users/richardmatthias/miniconda3/lib/python3.6/site-packages/IPython/extensions', '/Users/richardmatthias/.ipython']\n"
     ]
    }
   ],
   "source": [
    "import sys\n",
    "print(sys.path)"
   ]
  },
  {
   "cell_type": "code",
   "execution_count": null,
   "metadata": {},
   "outputs": [],
   "source": []
  }
 ],
 "metadata": {
  "kernelspec": {
   "display_name": "Python 3",
   "language": "python",
   "name": "python3"
  },
  "language_info": {
   "codemirror_mode": {
    "name": "ipython",
    "version": 3
   },
   "file_extension": ".py",
   "mimetype": "text/x-python",
   "name": "python",
   "nbconvert_exporter": "python",
   "pygments_lexer": "ipython3",
   "version": "3.6.7"
  }
 },
 "nbformat": 4,
 "nbformat_minor": 2
}
